{
  "nbformat": 4,
  "nbformat_minor": 0,
  "metadata": {
    "colab": {
      "name": "dog-vision.ipynb",
      "provenance": [],
      "collapsed_sections": [],
      "mount_file_id": "1YLoe01iAuDFOUdhkuVAdIChNtqmnn6kT",
      "authorship_tag": "ABX9TyMqbi464mPYOD7SpZY0UTjs",
      "include_colab_link": true
    },
    "kernelspec": {
      "name": "python3",
      "display_name": "Python 3"
    },
    "language_info": {
      "name": "python"
    }
  },
  "cells": [
    {
      "cell_type": "markdown",
      "metadata": {
        "id": "view-in-github",
        "colab_type": "text"
      },
      "source": [
        "<a href=\"https://colab.research.google.com/github/sametcankarakas/Authentication-Start-windows/blob/master/dog_vision.ipynb\" target=\"_parent\"><img src=\"https://colab.research.google.com/assets/colab-badge.svg\" alt=\"Open In Colab\"/></a>"
      ]
    },
    {
      "cell_type": "code",
      "execution_count": 1,
      "metadata": {
        "id": "s8oZwxvjHKGc"
      },
      "outputs": [],
      "source": [
        "# Unzip file to destination\n",
        "#!unzip \"/content/drive/MyDrive/Dog Vision/test.zip\" -d \"/content/drive/MyDrive/Dog Vision/test\"\n",
        "#!unzip \"/content/drive/MyDrive/Dog Vision/train.zip\" -d \"/content/drive/MyDrive/Dog Vision/train\""
      ]
    },
    {
      "cell_type": "code",
      "source": [
        ""
      ],
      "metadata": {
        "id": "7jJ_cUTvfY-Z"
      },
      "execution_count": null,
      "outputs": []
    }
  ]
}